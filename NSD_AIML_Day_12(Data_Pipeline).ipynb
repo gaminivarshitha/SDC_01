{
  "nbformat": 4,
  "nbformat_minor": 0,
  "metadata": {
    "colab": {
      "provenance": [],
      "authorship_tag": "ABX9TyMD1yuKl5Jf74WxwnpiJGgG",
      "include_colab_link": true
    },
    "kernelspec": {
      "name": "python3",
      "display_name": "Python 3"
    },
    "language_info": {
      "name": "python"
    }
  },
  "cells": [
    {
      "cell_type": "markdown",
      "metadata": {
        "id": "view-in-github",
        "colab_type": "text"
      },
      "source": [
        "<a href=\"https://colab.research.google.com/github/gaminivarshitha/SDC_01/blob/main/NSD_AIML_Day_12(Data_Pipeline).ipynb\" target=\"_parent\"><img src=\"https://colab.research.google.com/assets/colab-badge.svg\" alt=\"Open In Colab\"/></a>"
      ]
    },
    {
      "cell_type": "markdown",
      "source": [
        "Data Pipeline is a preprocessing unit of data. It is a series of processes that autoamte movenemnt and transformation of data.It ensures the flow of data in a structured manner.\n",
        "\n",
        "Types of data:\n",
        "\n",
        "1.Discrete data: Non continuos data\n",
        "\n",
        "2.Continuous data\n",
        "\n",
        "Components of Data Pipeline:\n",
        "1. Data Ingestion: Collection of Raw Data.(Data bases,API,sensiors,files).\n",
        "2. Data Processing: Cleaning,transforming,normalizing.(making the data usable)\n",
        "3. Data Storage: palces to store data(like datawarehouses)\n",
        "4. Data Analysis: Feeding the processed data into anlaystics through dash boards or leader boards.\n",
        "5. Monitoring and orchestartion: Ensuring Smooth flow of data.\n",
        "\n",
        "Types of data Pipelines:\n",
        "1. Batch Processing pipeline: processes data in chunks or batches(at scheduled intervals).(Not 24/7)\n",
        "2. Streaming Pipeline: Processes data in real time as it is generated.(eg: Apache Kafka,Apache Flink)(24/7)\n",
        "3. Hybrid Pipeline: Combines batch an dStreaming to handle workloads.\n",
        "\n"
      ],
      "metadata": {
        "id": "LxFh-C8tdLKO"
      }
    },
    {
      "cell_type": "code",
      "execution_count": null,
      "metadata": {
        "id": "5LDpQqw3dDrE"
      },
      "outputs": [],
      "source": []
    }
  ]
}